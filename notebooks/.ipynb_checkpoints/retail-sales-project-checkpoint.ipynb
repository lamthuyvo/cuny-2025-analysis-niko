{
 "cells": [
  {
   "cell_type": "markdown",
   "id": "075034b8-6b6a-4bd1-a1f9-f7bb5c151990",
   "metadata": {},
   "source": [
    "### Analysis of retail sales figures\n",
    "This notebook will analyzing retail sales figures from Jan 2020 to March 2025. I calculate a moving average, average and year over year. "
   ]
  },
  {
   "cell_type": "code",
   "execution_count": 47,
   "id": "e5e621e5-72ad-411a-a886-0df953381248",
   "metadata": {},
   "outputs": [],
   "source": [
    "import pandas as pd\n",
    "import os"
   ]
  },
  {
   "cell_type": "code",
   "execution_count": 48,
   "id": "9caf1cc6-d057-4963-88b1-cf0e20ce9ea2",
   "metadata": {},
   "outputs": [],
   "source": [
    "sales_data = pd.read_csv('../data/retail_sales_cleaned.csv')"
   ]
  },
  {
   "cell_type": "code",
   "execution_count": 49,
   "id": "c9bb8af9-ad70-416b-b32e-31383aad4c37",
   "metadata": {},
   "outputs": [
    {
     "data": {
      "text/html": [
       "<div>\n",
       "<style scoped>\n",
       "    .dataframe tbody tr th:only-of-type {\n",
       "        vertical-align: middle;\n",
       "    }\n",
       "\n",
       "    .dataframe tbody tr th {\n",
       "        vertical-align: top;\n",
       "    }\n",
       "\n",
       "    .dataframe thead th {\n",
       "        text-align: right;\n",
       "    }\n",
       "</style>\n",
       "<table border=\"1\" class=\"dataframe\">\n",
       "  <thead>\n",
       "    <tr style=\"text-align: right;\">\n",
       "      <th></th>\n",
       "      <th>Period</th>\n",
       "      <th>Value</th>\n",
       "    </tr>\n",
       "  </thead>\n",
       "  <tbody>\n",
       "    <tr>\n",
       "      <th>0</th>\n",
       "      <td>Jan-2020</td>\n",
       "      <td>525,411</td>\n",
       "    </tr>\n",
       "    <tr>\n",
       "      <th>1</th>\n",
       "      <td>Feb-2020</td>\n",
       "      <td>525,380</td>\n",
       "    </tr>\n",
       "    <tr>\n",
       "      <th>2</th>\n",
       "      <td>Mar-2020</td>\n",
       "      <td>477,676</td>\n",
       "    </tr>\n",
       "    <tr>\n",
       "      <th>3</th>\n",
       "      <td>Apr-2020</td>\n",
       "      <td>408,312</td>\n",
       "    </tr>\n",
       "    <tr>\n",
       "      <th>4</th>\n",
       "      <td>May-2020</td>\n",
       "      <td>484,978</td>\n",
       "    </tr>\n",
       "  </tbody>\n",
       "</table>\n",
       "</div>"
      ],
      "text/plain": [
       "     Period    Value\n",
       "0  Jan-2020  525,411\n",
       "1  Feb-2020  525,380\n",
       "2  Mar-2020  477,676\n",
       "3  Apr-2020  408,312\n",
       "4  May-2020  484,978"
      ]
     },
     "execution_count": 49,
     "metadata": {},
     "output_type": "execute_result"
    }
   ],
   "source": [
    "#trying to see what I am working with. if the cleaned data set is good.\n",
    "\n",
    "sales_data.head()"
   ]
  },
  {
   "cell_type": "code",
   "execution_count": 50,
   "id": "9ba34d20-ee9a-41f9-8910-a00f5a12e614",
   "metadata": {},
   "outputs": [
    {
     "data": {
      "text/plain": [
       "63"
      ]
     },
     "execution_count": 50,
     "metadata": {},
     "output_type": "execute_result"
    }
   ],
   "source": [
    "len(sales_data)"
   ]
  },
  {
   "cell_type": "code",
   "execution_count": 51,
   "id": "859b6897-ed3b-4b6e-8885-6e41cbfc5a59",
   "metadata": {},
   "outputs": [
    {
     "data": {
      "text/plain": [
       "Period    object\n",
       "Value     object\n",
       "dtype: object"
      ]
     },
     "execution_count": 51,
     "metadata": {},
     "output_type": "execute_result"
    }
   ],
   "source": [
    "#Next step is seeing what data types are in the columns.\n",
    "\n",
    "sales_data.dtypes"
   ]
  },
  {
   "cell_type": "code",
   "execution_count": 52,
   "id": "6c4625f9-a238-4a56-a3e6-abd14b248760",
   "metadata": {},
   "outputs": [
    {
     "data": {
      "text/plain": [
       "Value\n",
       "<class 'str'>    63\n",
       "Name: count, dtype: int64"
      ]
     },
     "execution_count": 52,
     "metadata": {},
     "output_type": "execute_result"
    }
   ],
   "source": [
    "#is it a string?\n",
    "\n",
    "sales_data['Value'].apply(type).value_counts()"
   ]
  },
  {
   "cell_type": "code",
   "execution_count": 53,
   "id": "418c18d7-d6f8-49d1-9266-992571ab54e7",
   "metadata": {},
   "outputs": [],
   "source": [
    "#making it into a number here\n",
    "\n",
    "sales_data['Value'] = sales_data['Value'].str.replace(',', '').astype(float)"
   ]
  },
  {
   "cell_type": "code",
   "execution_count": 54,
   "id": "490ef87b-4915-40c0-ac1a-6892d4cb16d8",
   "metadata": {},
   "outputs": [
    {
     "data": {
      "text/html": [
       "<div>\n",
       "<style scoped>\n",
       "    .dataframe tbody tr th:only-of-type {\n",
       "        vertical-align: middle;\n",
       "    }\n",
       "\n",
       "    .dataframe tbody tr th {\n",
       "        vertical-align: top;\n",
       "    }\n",
       "\n",
       "    .dataframe thead th {\n",
       "        text-align: right;\n",
       "    }\n",
       "</style>\n",
       "<table border=\"1\" class=\"dataframe\">\n",
       "  <thead>\n",
       "    <tr style=\"text-align: right;\">\n",
       "      <th></th>\n",
       "      <th>Period</th>\n",
       "      <th>Value</th>\n",
       "    </tr>\n",
       "  </thead>\n",
       "  <tbody>\n",
       "    <tr>\n",
       "      <th>0</th>\n",
       "      <td>Jan-2020</td>\n",
       "      <td>525411.0</td>\n",
       "    </tr>\n",
       "    <tr>\n",
       "      <th>1</th>\n",
       "      <td>Feb-2020</td>\n",
       "      <td>525380.0</td>\n",
       "    </tr>\n",
       "    <tr>\n",
       "      <th>2</th>\n",
       "      <td>Mar-2020</td>\n",
       "      <td>477676.0</td>\n",
       "    </tr>\n",
       "    <tr>\n",
       "      <th>3</th>\n",
       "      <td>Apr-2020</td>\n",
       "      <td>408312.0</td>\n",
       "    </tr>\n",
       "    <tr>\n",
       "      <th>4</th>\n",
       "      <td>May-2020</td>\n",
       "      <td>484978.0</td>\n",
       "    </tr>\n",
       "  </tbody>\n",
       "</table>\n",
       "</div>"
      ],
      "text/plain": [
       "     Period     Value\n",
       "0  Jan-2020  525411.0\n",
       "1  Feb-2020  525380.0\n",
       "2  Mar-2020  477676.0\n",
       "3  Apr-2020  408312.0\n",
       "4  May-2020  484978.0"
      ]
     },
     "execution_count": 54,
     "metadata": {},
     "output_type": "execute_result"
    }
   ],
   "source": [
    "sales_data.head()"
   ]
  },
  {
   "cell_type": "code",
   "execution_count": 55,
   "id": "763c4b0e-0ba2-4bd5-a250-19e1b4b507bb",
   "metadata": {},
   "outputs": [
    {
     "data": {
      "text/plain": [
       "Period     object\n",
       "Value     float64\n",
       "dtype: object"
      ]
     },
     "execution_count": 55,
     "metadata": {},
     "output_type": "execute_result"
    }
   ],
   "source": [
    "#Double checking.\n",
    "\n",
    "sales_data.dtypes"
   ]
  },
  {
   "cell_type": "code",
   "execution_count": 56,
   "id": "bb974731-5178-45dc-b1de-89c3bbec8b3d",
   "metadata": {},
   "outputs": [
    {
     "data": {
      "text/plain": [
       "Value\n",
       "<class 'float'>    63\n",
       "Name: count, dtype: int64"
      ]
     },
     "execution_count": 56,
     "metadata": {},
     "output_type": "execute_result"
    }
   ],
   "source": [
    "sales_data['Value'].apply(type).value_counts()"
   ]
  },
  {
   "cell_type": "code",
   "execution_count": 57,
   "id": "3c737f9d-c7c6-4438-b753-1b264f0400f5",
   "metadata": {},
   "outputs": [],
   "source": [
    "#now that i have my numbers, I want to calculate the moving average and average itself to see trends and compare.\n",
    "#will create a new column here \n",
    "#came across the rolling function on Google\n",
    "\n",
    "sales_data['Three-Month-MA'] = sales_data['Value'].rolling(window=3).mean()\n"
   ]
  },
  {
   "cell_type": "code",
   "execution_count": 58,
   "id": "2d5111ef-2ca5-4c99-98e2-15e0e2a97640",
   "metadata": {},
   "outputs": [
    {
     "data": {
      "text/html": [
       "<div>\n",
       "<style scoped>\n",
       "    .dataframe tbody tr th:only-of-type {\n",
       "        vertical-align: middle;\n",
       "    }\n",
       "\n",
       "    .dataframe tbody tr th {\n",
       "        vertical-align: top;\n",
       "    }\n",
       "\n",
       "    .dataframe thead th {\n",
       "        text-align: right;\n",
       "    }\n",
       "</style>\n",
       "<table border=\"1\" class=\"dataframe\">\n",
       "  <thead>\n",
       "    <tr style=\"text-align: right;\">\n",
       "      <th></th>\n",
       "      <th>Period</th>\n",
       "      <th>Value</th>\n",
       "      <th>Three-Month-MA</th>\n",
       "    </tr>\n",
       "  </thead>\n",
       "  <tbody>\n",
       "    <tr>\n",
       "      <th>0</th>\n",
       "      <td>Jan-2020</td>\n",
       "      <td>525411.0</td>\n",
       "      <td>NaN</td>\n",
       "    </tr>\n",
       "    <tr>\n",
       "      <th>1</th>\n",
       "      <td>Feb-2020</td>\n",
       "      <td>525380.0</td>\n",
       "      <td>NaN</td>\n",
       "    </tr>\n",
       "    <tr>\n",
       "      <th>2</th>\n",
       "      <td>Mar-2020</td>\n",
       "      <td>477676.0</td>\n",
       "      <td>509489.000000</td>\n",
       "    </tr>\n",
       "    <tr>\n",
       "      <th>3</th>\n",
       "      <td>Apr-2020</td>\n",
       "      <td>408312.0</td>\n",
       "      <td>470456.000000</td>\n",
       "    </tr>\n",
       "    <tr>\n",
       "      <th>4</th>\n",
       "      <td>May-2020</td>\n",
       "      <td>484978.0</td>\n",
       "      <td>456988.666667</td>\n",
       "    </tr>\n",
       "  </tbody>\n",
       "</table>\n",
       "</div>"
      ],
      "text/plain": [
       "     Period     Value  Three-Month-MA\n",
       "0  Jan-2020  525411.0             NaN\n",
       "1  Feb-2020  525380.0             NaN\n",
       "2  Mar-2020  477676.0   509489.000000\n",
       "3  Apr-2020  408312.0   470456.000000\n",
       "4  May-2020  484978.0   456988.666667"
      ]
     },
     "execution_count": 58,
     "metadata": {},
     "output_type": "execute_result"
    }
   ],
   "source": [
    "sales_data.head()"
   ]
  },
  {
   "cell_type": "code",
   "execution_count": 59,
   "id": "7a0a694c-9680-4cc9-a504-f2795c57bb36",
   "metadata": {},
   "outputs": [
    {
     "data": {
      "text/html": [
       "<div>\n",
       "<style scoped>\n",
       "    .dataframe tbody tr th:only-of-type {\n",
       "        vertical-align: middle;\n",
       "    }\n",
       "\n",
       "    .dataframe tbody tr th {\n",
       "        vertical-align: top;\n",
       "    }\n",
       "\n",
       "    .dataframe thead th {\n",
       "        text-align: right;\n",
       "    }\n",
       "</style>\n",
       "<table border=\"1\" class=\"dataframe\">\n",
       "  <thead>\n",
       "    <tr style=\"text-align: right;\">\n",
       "      <th></th>\n",
       "      <th>Period</th>\n",
       "      <th>Value</th>\n",
       "      <th>Three-Month-MA</th>\n",
       "    </tr>\n",
       "  </thead>\n",
       "  <tbody>\n",
       "    <tr>\n",
       "      <th>58</th>\n",
       "      <td>Nov-2024</td>\n",
       "      <td>725079.0</td>\n",
       "      <td>720620.000000</td>\n",
       "    </tr>\n",
       "    <tr>\n",
       "      <th>59</th>\n",
       "      <td>Dec-2024</td>\n",
       "      <td>730336.0</td>\n",
       "      <td>725269.333333</td>\n",
       "    </tr>\n",
       "    <tr>\n",
       "      <th>60</th>\n",
       "      <td>Jan-2025</td>\n",
       "      <td>722944.0</td>\n",
       "      <td>726119.666667</td>\n",
       "    </tr>\n",
       "    <tr>\n",
       "      <th>61</th>\n",
       "      <td>Feb-2025</td>\n",
       "      <td>724535.0</td>\n",
       "      <td>725938.333333</td>\n",
       "    </tr>\n",
       "    <tr>\n",
       "      <th>62</th>\n",
       "      <td>Mar-2025</td>\n",
       "      <td>734870.0</td>\n",
       "      <td>727449.666667</td>\n",
       "    </tr>\n",
       "  </tbody>\n",
       "</table>\n",
       "</div>"
      ],
      "text/plain": [
       "      Period     Value  Three-Month-MA\n",
       "58  Nov-2024  725079.0   720620.000000\n",
       "59  Dec-2024  730336.0   725269.333333\n",
       "60  Jan-2025  722944.0   726119.666667\n",
       "61  Feb-2025  724535.0   725938.333333\n",
       "62  Mar-2025  734870.0   727449.666667"
      ]
     },
     "execution_count": 59,
     "metadata": {},
     "output_type": "execute_result"
    }
   ],
   "source": [
    "sales_data.tail()"
   ]
  },
  {
   "cell_type": "code",
   "execution_count": 60,
   "id": "4f0caa6f-52da-49e9-854f-e37149415144",
   "metadata": {},
   "outputs": [
    {
     "name": "stdout",
     "output_type": "stream",
     "text": [
      "Average monthly sales:  644411.4444444445\n"
     ]
    }
   ],
   "source": [
    "average = sales_data['Value'].mean()\n",
    "print(\"Average monthly sales: \", average)"
   ]
  },
  {
   "cell_type": "code",
   "execution_count": 61,
   "id": "f8bedfb9-aade-4fb8-8c4b-30698ee8839f",
   "metadata": {},
   "outputs": [],
   "source": [
    "#Question to answer. How many months were above and below average?\n",
    "\n",
    "sales_data['Above Average'] = sales_data['Value'] > average"
   ]
  },
  {
   "cell_type": "code",
   "execution_count": 62,
   "id": "09c64624-89c7-4b59-9fce-297475a1fc55",
   "metadata": {},
   "outputs": [
    {
     "data": {
      "text/html": [
       "<div>\n",
       "<style scoped>\n",
       "    .dataframe tbody tr th:only-of-type {\n",
       "        vertical-align: middle;\n",
       "    }\n",
       "\n",
       "    .dataframe tbody tr th {\n",
       "        vertical-align: top;\n",
       "    }\n",
       "\n",
       "    .dataframe thead th {\n",
       "        text-align: right;\n",
       "    }\n",
       "</style>\n",
       "<table border=\"1\" class=\"dataframe\">\n",
       "  <thead>\n",
       "    <tr style=\"text-align: right;\">\n",
       "      <th></th>\n",
       "      <th>Period</th>\n",
       "      <th>Value</th>\n",
       "      <th>Three-Month-MA</th>\n",
       "      <th>Above Average</th>\n",
       "    </tr>\n",
       "  </thead>\n",
       "  <tbody>\n",
       "    <tr>\n",
       "      <th>0</th>\n",
       "      <td>Jan-2020</td>\n",
       "      <td>525411.0</td>\n",
       "      <td>NaN</td>\n",
       "      <td>False</td>\n",
       "    </tr>\n",
       "    <tr>\n",
       "      <th>1</th>\n",
       "      <td>Feb-2020</td>\n",
       "      <td>525380.0</td>\n",
       "      <td>NaN</td>\n",
       "      <td>False</td>\n",
       "    </tr>\n",
       "    <tr>\n",
       "      <th>2</th>\n",
       "      <td>Mar-2020</td>\n",
       "      <td>477676.0</td>\n",
       "      <td>509489.000000</td>\n",
       "      <td>False</td>\n",
       "    </tr>\n",
       "    <tr>\n",
       "      <th>3</th>\n",
       "      <td>Apr-2020</td>\n",
       "      <td>408312.0</td>\n",
       "      <td>470456.000000</td>\n",
       "      <td>False</td>\n",
       "    </tr>\n",
       "    <tr>\n",
       "      <th>4</th>\n",
       "      <td>May-2020</td>\n",
       "      <td>484978.0</td>\n",
       "      <td>456988.666667</td>\n",
       "      <td>False</td>\n",
       "    </tr>\n",
       "  </tbody>\n",
       "</table>\n",
       "</div>"
      ],
      "text/plain": [
       "     Period     Value  Three-Month-MA  Above Average\n",
       "0  Jan-2020  525411.0             NaN          False\n",
       "1  Feb-2020  525380.0             NaN          False\n",
       "2  Mar-2020  477676.0   509489.000000          False\n",
       "3  Apr-2020  408312.0   470456.000000          False\n",
       "4  May-2020  484978.0   456988.666667          False"
      ]
     },
     "execution_count": 62,
     "metadata": {},
     "output_type": "execute_result"
    }
   ],
   "source": [
    "sales_data.head()"
   ]
  },
  {
   "cell_type": "code",
   "execution_count": 63,
   "id": "a6cb413f-49e3-4bf4-8f3c-94671a5c7bf7",
   "metadata": {},
   "outputs": [
    {
     "data": {
      "text/html": [
       "<div>\n",
       "<style scoped>\n",
       "    .dataframe tbody tr th:only-of-type {\n",
       "        vertical-align: middle;\n",
       "    }\n",
       "\n",
       "    .dataframe tbody tr th {\n",
       "        vertical-align: top;\n",
       "    }\n",
       "\n",
       "    .dataframe thead th {\n",
       "        text-align: right;\n",
       "    }\n",
       "</style>\n",
       "<table border=\"1\" class=\"dataframe\">\n",
       "  <thead>\n",
       "    <tr style=\"text-align: right;\">\n",
       "      <th></th>\n",
       "      <th>Period</th>\n",
       "      <th>Value</th>\n",
       "      <th>Three-Month-MA</th>\n",
       "      <th>Above Average</th>\n",
       "    </tr>\n",
       "  </thead>\n",
       "  <tbody>\n",
       "    <tr>\n",
       "      <th>58</th>\n",
       "      <td>Nov-2024</td>\n",
       "      <td>725079.0</td>\n",
       "      <td>720620.000000</td>\n",
       "      <td>True</td>\n",
       "    </tr>\n",
       "    <tr>\n",
       "      <th>59</th>\n",
       "      <td>Dec-2024</td>\n",
       "      <td>730336.0</td>\n",
       "      <td>725269.333333</td>\n",
       "      <td>True</td>\n",
       "    </tr>\n",
       "    <tr>\n",
       "      <th>60</th>\n",
       "      <td>Jan-2025</td>\n",
       "      <td>722944.0</td>\n",
       "      <td>726119.666667</td>\n",
       "      <td>True</td>\n",
       "    </tr>\n",
       "    <tr>\n",
       "      <th>61</th>\n",
       "      <td>Feb-2025</td>\n",
       "      <td>724535.0</td>\n",
       "      <td>725938.333333</td>\n",
       "      <td>True</td>\n",
       "    </tr>\n",
       "    <tr>\n",
       "      <th>62</th>\n",
       "      <td>Mar-2025</td>\n",
       "      <td>734870.0</td>\n",
       "      <td>727449.666667</td>\n",
       "      <td>True</td>\n",
       "    </tr>\n",
       "  </tbody>\n",
       "</table>\n",
       "</div>"
      ],
      "text/plain": [
       "      Period     Value  Three-Month-MA  Above Average\n",
       "58  Nov-2024  725079.0   720620.000000           True\n",
       "59  Dec-2024  730336.0   725269.333333           True\n",
       "60  Jan-2025  722944.0   726119.666667           True\n",
       "61  Feb-2025  724535.0   725938.333333           True\n",
       "62  Mar-2025  734870.0   727449.666667           True"
      ]
     },
     "execution_count": 63,
     "metadata": {},
     "output_type": "execute_result"
    }
   ],
   "source": [
    "sales_data.tail()"
   ]
  },
  {
   "cell_type": "code",
   "execution_count": 64,
   "id": "0c83f5a4-e8a6-40a8-98ec-28fc2c7d6a4f",
   "metadata": {},
   "outputs": [
    {
     "data": {
      "text/plain": [
       "Above Average\n",
       "True     38\n",
       "False    25\n",
       "Name: count, dtype: int64"
      ]
     },
     "execution_count": 64,
     "metadata": {},
     "output_type": "execute_result"
    }
   ],
   "source": [
    "sales_data['Above Average'].value_counts()"
   ]
  },
  {
   "cell_type": "code",
   "execution_count": 65,
   "id": "ed5de7e3-3c45-4ce1-85a9-af1d9d023388",
   "metadata": {},
   "outputs": [],
   "source": [
    "#Next analysis is year over year.\n",
    "#After running first, an error popped up. Turns out I mispelled change in the formula.\n",
    "\n",
    "sales_data['Year over Year'] = sales_data['Value'].pct_change(periods=12) * 100"
   ]
  },
  {
   "cell_type": "code",
   "execution_count": 66,
   "id": "9116cb1f-f872-431b-b289-e92eed40f71d",
   "metadata": {},
   "outputs": [
    {
     "data": {
      "text/html": [
       "<div>\n",
       "<style scoped>\n",
       "    .dataframe tbody tr th:only-of-type {\n",
       "        vertical-align: middle;\n",
       "    }\n",
       "\n",
       "    .dataframe tbody tr th {\n",
       "        vertical-align: top;\n",
       "    }\n",
       "\n",
       "    .dataframe thead th {\n",
       "        text-align: right;\n",
       "    }\n",
       "</style>\n",
       "<table border=\"1\" class=\"dataframe\">\n",
       "  <thead>\n",
       "    <tr style=\"text-align: right;\">\n",
       "      <th></th>\n",
       "      <th>Period</th>\n",
       "      <th>Value</th>\n",
       "      <th>Three-Month-MA</th>\n",
       "      <th>Above Average</th>\n",
       "      <th>Year over Year</th>\n",
       "    </tr>\n",
       "  </thead>\n",
       "  <tbody>\n",
       "    <tr>\n",
       "      <th>0</th>\n",
       "      <td>Jan-2020</td>\n",
       "      <td>525411.0</td>\n",
       "      <td>NaN</td>\n",
       "      <td>False</td>\n",
       "      <td>NaN</td>\n",
       "    </tr>\n",
       "    <tr>\n",
       "      <th>1</th>\n",
       "      <td>Feb-2020</td>\n",
       "      <td>525380.0</td>\n",
       "      <td>NaN</td>\n",
       "      <td>False</td>\n",
       "      <td>NaN</td>\n",
       "    </tr>\n",
       "    <tr>\n",
       "      <th>2</th>\n",
       "      <td>Mar-2020</td>\n",
       "      <td>477676.0</td>\n",
       "      <td>509489.000000</td>\n",
       "      <td>False</td>\n",
       "      <td>NaN</td>\n",
       "    </tr>\n",
       "    <tr>\n",
       "      <th>3</th>\n",
       "      <td>Apr-2020</td>\n",
       "      <td>408312.0</td>\n",
       "      <td>470456.000000</td>\n",
       "      <td>False</td>\n",
       "      <td>NaN</td>\n",
       "    </tr>\n",
       "    <tr>\n",
       "      <th>4</th>\n",
       "      <td>May-2020</td>\n",
       "      <td>484978.0</td>\n",
       "      <td>456988.666667</td>\n",
       "      <td>False</td>\n",
       "      <td>NaN</td>\n",
       "    </tr>\n",
       "  </tbody>\n",
       "</table>\n",
       "</div>"
      ],
      "text/plain": [
       "     Period     Value  Three-Month-MA  Above Average  Year over Year\n",
       "0  Jan-2020  525411.0             NaN          False             NaN\n",
       "1  Feb-2020  525380.0             NaN          False             NaN\n",
       "2  Mar-2020  477676.0   509489.000000          False             NaN\n",
       "3  Apr-2020  408312.0   470456.000000          False             NaN\n",
       "4  May-2020  484978.0   456988.666667          False             NaN"
      ]
     },
     "execution_count": 66,
     "metadata": {},
     "output_type": "execute_result"
    }
   ],
   "source": [
    "sales_data.head()"
   ]
  },
  {
   "cell_type": "code",
   "execution_count": 67,
   "id": "8b217978-493c-456d-9ce5-d7931fe0b237",
   "metadata": {},
   "outputs": [
    {
     "data": {
      "text/html": [
       "<div>\n",
       "<style scoped>\n",
       "    .dataframe tbody tr th:only-of-type {\n",
       "        vertical-align: middle;\n",
       "    }\n",
       "\n",
       "    .dataframe tbody tr th {\n",
       "        vertical-align: top;\n",
       "    }\n",
       "\n",
       "    .dataframe thead th {\n",
       "        text-align: right;\n",
       "    }\n",
       "</style>\n",
       "<table border=\"1\" class=\"dataframe\">\n",
       "  <thead>\n",
       "    <tr style=\"text-align: right;\">\n",
       "      <th></th>\n",
       "      <th>Period</th>\n",
       "      <th>Value</th>\n",
       "      <th>Three-Month-MA</th>\n",
       "      <th>Above Average</th>\n",
       "      <th>Year over Year</th>\n",
       "    </tr>\n",
       "  </thead>\n",
       "  <tbody>\n",
       "    <tr>\n",
       "      <th>58</th>\n",
       "      <td>Nov-2024</td>\n",
       "      <td>725079.0</td>\n",
       "      <td>720620.000000</td>\n",
       "      <td>True</td>\n",
       "      <td>4.003632</td>\n",
       "    </tr>\n",
       "    <tr>\n",
       "      <th>59</th>\n",
       "      <td>Dec-2024</td>\n",
       "      <td>730336.0</td>\n",
       "      <td>725269.333333</td>\n",
       "      <td>True</td>\n",
       "      <td>4.360401</td>\n",
       "    </tr>\n",
       "    <tr>\n",
       "      <th>60</th>\n",
       "      <td>Jan-2025</td>\n",
       "      <td>722944.0</td>\n",
       "      <td>726119.666667</td>\n",
       "      <td>True</td>\n",
       "      <td>4.150946</td>\n",
       "    </tr>\n",
       "    <tr>\n",
       "      <th>61</th>\n",
       "      <td>Feb-2025</td>\n",
       "      <td>724535.0</td>\n",
       "      <td>725938.333333</td>\n",
       "      <td>True</td>\n",
       "      <td>3.543607</td>\n",
       "    </tr>\n",
       "    <tr>\n",
       "      <th>62</th>\n",
       "      <td>Mar-2025</td>\n",
       "      <td>734870.0</td>\n",
       "      <td>727449.666667</td>\n",
       "      <td>True</td>\n",
       "      <td>4.604851</td>\n",
       "    </tr>\n",
       "  </tbody>\n",
       "</table>\n",
       "</div>"
      ],
      "text/plain": [
       "      Period     Value  Three-Month-MA  Above Average  Year over Year\n",
       "58  Nov-2024  725079.0   720620.000000           True        4.003632\n",
       "59  Dec-2024  730336.0   725269.333333           True        4.360401\n",
       "60  Jan-2025  722944.0   726119.666667           True        4.150946\n",
       "61  Feb-2025  724535.0   725938.333333           True        3.543607\n",
       "62  Mar-2025  734870.0   727449.666667           True        4.604851"
      ]
     },
     "execution_count": 67,
     "metadata": {},
     "output_type": "execute_result"
    }
   ],
   "source": [
    "sales_data.tail()"
   ]
  },
  {
   "cell_type": "code",
   "execution_count": 68,
   "id": "f1a57260-1ecc-401c-b1e2-e06931ffafbe",
   "metadata": {},
   "outputs": [],
   "source": [
    "#Rounding the numbers to make them easier to read.\n",
    "\n",
    "sales_data = sales_data.round(2)"
   ]
  },
  {
   "cell_type": "code",
   "execution_count": 69,
   "id": "b74287ae-5914-4e12-bfc5-aeee5b874036",
   "metadata": {},
   "outputs": [
    {
     "data": {
      "text/html": [
       "<div>\n",
       "<style scoped>\n",
       "    .dataframe tbody tr th:only-of-type {\n",
       "        vertical-align: middle;\n",
       "    }\n",
       "\n",
       "    .dataframe tbody tr th {\n",
       "        vertical-align: top;\n",
       "    }\n",
       "\n",
       "    .dataframe thead th {\n",
       "        text-align: right;\n",
       "    }\n",
       "</style>\n",
       "<table border=\"1\" class=\"dataframe\">\n",
       "  <thead>\n",
       "    <tr style=\"text-align: right;\">\n",
       "      <th></th>\n",
       "      <th>Period</th>\n",
       "      <th>Value</th>\n",
       "      <th>Three-Month-MA</th>\n",
       "      <th>Above Average</th>\n",
       "      <th>Year over Year</th>\n",
       "    </tr>\n",
       "  </thead>\n",
       "  <tbody>\n",
       "    <tr>\n",
       "      <th>58</th>\n",
       "      <td>Nov-2024</td>\n",
       "      <td>725079.0</td>\n",
       "      <td>720620.00</td>\n",
       "      <td>True</td>\n",
       "      <td>4.00</td>\n",
       "    </tr>\n",
       "    <tr>\n",
       "      <th>59</th>\n",
       "      <td>Dec-2024</td>\n",
       "      <td>730336.0</td>\n",
       "      <td>725269.33</td>\n",
       "      <td>True</td>\n",
       "      <td>4.36</td>\n",
       "    </tr>\n",
       "    <tr>\n",
       "      <th>60</th>\n",
       "      <td>Jan-2025</td>\n",
       "      <td>722944.0</td>\n",
       "      <td>726119.67</td>\n",
       "      <td>True</td>\n",
       "      <td>4.15</td>\n",
       "    </tr>\n",
       "    <tr>\n",
       "      <th>61</th>\n",
       "      <td>Feb-2025</td>\n",
       "      <td>724535.0</td>\n",
       "      <td>725938.33</td>\n",
       "      <td>True</td>\n",
       "      <td>3.54</td>\n",
       "    </tr>\n",
       "    <tr>\n",
       "      <th>62</th>\n",
       "      <td>Mar-2025</td>\n",
       "      <td>734870.0</td>\n",
       "      <td>727449.67</td>\n",
       "      <td>True</td>\n",
       "      <td>4.60</td>\n",
       "    </tr>\n",
       "  </tbody>\n",
       "</table>\n",
       "</div>"
      ],
      "text/plain": [
       "      Period     Value  Three-Month-MA  Above Average  Year over Year\n",
       "58  Nov-2024  725079.0       720620.00           True            4.00\n",
       "59  Dec-2024  730336.0       725269.33           True            4.36\n",
       "60  Jan-2025  722944.0       726119.67           True            4.15\n",
       "61  Feb-2025  724535.0       725938.33           True            3.54\n",
       "62  Mar-2025  734870.0       727449.67           True            4.60"
      ]
     },
     "execution_count": 69,
     "metadata": {},
     "output_type": "execute_result"
    }
   ],
   "source": [
    "sales_data.tail()"
   ]
  },
  {
   "cell_type": "code",
   "execution_count": 70,
   "id": "5c8c9c25-ac97-442c-ac80-6c85e9011396",
   "metadata": {},
   "outputs": [],
   "source": [
    "os.makedirs(\"../output\", exist_ok=True)"
   ]
  },
  {
   "cell_type": "code",
   "execution_count": 71,
   "id": "ef953f7e-ffca-4ffc-b788-d0b8fb035e67",
   "metadata": {},
   "outputs": [],
   "source": [
    "sales_data.to_csv(\"../output/retail_sales_analysis.csv\", index=False)"
   ]
  },
  {
   "cell_type": "code",
   "execution_count": null,
   "id": "1cba9f00-ccbe-41dc-913c-2ff8840b3bf3",
   "metadata": {},
   "outputs": [],
   "source": []
  },
  {
   "cell_type": "code",
   "execution_count": null,
   "id": "195d8e19-fea2-4f1b-ba3b-88ddbe8e94eb",
   "metadata": {},
   "outputs": [],
   "source": []
  },
  {
   "cell_type": "code",
   "execution_count": null,
   "id": "48c27eb3-edcb-4b22-9f70-8a35854034bb",
   "metadata": {},
   "outputs": [],
   "source": []
  },
  {
   "cell_type": "code",
   "execution_count": null,
   "id": "ea181cde-c02b-4797-add1-06452ab0127a",
   "metadata": {},
   "outputs": [],
   "source": []
  }
 ],
 "metadata": {
  "kernelspec": {
   "display_name": "Python 3 (ipykernel)",
   "language": "python",
   "name": "python3"
  },
  "language_info": {
   "codemirror_mode": {
    "name": "ipython",
    "version": 3
   },
   "file_extension": ".py",
   "mimetype": "text/x-python",
   "name": "python",
   "nbconvert_exporter": "python",
   "pygments_lexer": "ipython3",
   "version": "3.8.18"
  }
 },
 "nbformat": 4,
 "nbformat_minor": 5
}
