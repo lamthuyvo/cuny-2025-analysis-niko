{
 "cells": [
  {
   "cell_type": "markdown",
   "id": "075034b8-6b6a-4bd1-a1f9-f7bb5c151990",
   "metadata": {},
   "source": [
    "### Analysis of retail sales figures\n",
    "This notebook will analyzing retail sales figures from Jan 2020 to March 2025. I calculate a moving average, average and year over year. "
   ]
  },
  {
   "cell_type": "code",
   "execution_count": null,
   "id": "e5e621e5-72ad-411a-a886-0df953381248",
   "metadata": {},
   "outputs": [],
   "source": [
    "import pandas as pd\n",
    "import os"
   ]
  },
  {
   "cell_type": "code",
   "execution_count": null,
   "id": "9caf1cc6-d057-4963-88b1-cf0e20ce9ea2",
   "metadata": {},
   "outputs": [],
   "source": [
    "sales_data = pd.read_excel( # we can use read_excel to open your spreadsheet! If you get an error, you might want to run !pip install  openpyxl\n",
    "    '../data/SeriesReport-202504171535-V.xlsx',\n",
    "    skiprows = 7, # this parameter/option allows you to skip the first 7 rows\n",
    "    usecols=[0,1] # this paramter/ option tells pandas to only use the first and second column. More info is here: https://pandas.pydata.org/docs/reference/api/pandas.read_excel.html\n",
    ")\n",
    "\n",
    "\n",
    "#trying to see what I am working with. if the cleaned data set is good.\n",
    "\n",
    "sales_data.head()"
   ]
  },
  {
   "cell_type": "code",
   "execution_count": null,
   "id": "9ba34d20-ee9a-41f9-8910-a00f5a12e614",
   "metadata": {},
   "outputs": [],
   "source": [
    "len(sales_data)"
   ]
  },
  {
   "cell_type": "code",
   "execution_count": null,
   "id": "859b6897-ed3b-4b6e-8885-6e41cbfc5a59",
   "metadata": {},
   "outputs": [],
   "source": [
    "#Next step is seeing what data types are in the columns.\n",
    "\n",
    "sales_data.dtypes"
   ]
  },
  {
   "cell_type": "code",
   "execution_count": null,
   "id": "6c4625f9-a238-4a56-a3e6-abd14b248760",
   "metadata": {},
   "outputs": [],
   "source": [
    "#is it a string?\n",
    "\n",
    "sales_data['Value'].apply(type).value_counts()"
   ]
  },
  {
   "cell_type": "markdown",
   "id": "90013f2c-f19b-482b-a550-7863af52e98a",
   "metadata": {},
   "source": [
    "I'm now skipping the code below because you no longer need to clean your data"
   ]
  },
  {
   "cell_type": "code",
   "execution_count": null,
   "id": "418c18d7-d6f8-49d1-9266-992571ab54e7",
   "metadata": {},
   "outputs": [],
   "source": [
    "\n",
    "# making it into a number here\n",
    "# sales_data['Value'] = sales_data['Value'].str.replace(',', '').astype(float)"
   ]
  },
  {
   "cell_type": "code",
   "execution_count": null,
   "id": "490ef87b-4915-40c0-ac1a-6892d4cb16d8",
   "metadata": {},
   "outputs": [],
   "source": [
    "sales_data.head()"
   ]
  },
  {
   "cell_type": "code",
   "execution_count": null,
   "id": "763c4b0e-0ba2-4bd5-a250-19e1b4b507bb",
   "metadata": {},
   "outputs": [],
   "source": [
    "#Double checking.\n",
    "\n",
    "sales_data.dtypes"
   ]
  },
  {
   "cell_type": "code",
   "execution_count": null,
   "id": "bb974731-5178-45dc-b1de-89c3bbec8b3d",
   "metadata": {},
   "outputs": [],
   "source": [
    "sales_data['Value'].apply(type).value_counts()"
   ]
  },
  {
   "cell_type": "code",
   "execution_count": null,
   "id": "3c737f9d-c7c6-4438-b753-1b264f0400f5",
   "metadata": {},
   "outputs": [],
   "source": [
    "#now that i have my numbers, I want to calculate the moving average and average itself to see trends and compare.\n",
    "#will create a new column here \n",
    "#came across the rolling function on Google\n",
    "\n",
    "sales_data['Three-Month-MA'] = sales_data['Value'].rolling(window=3).mean()\n"
   ]
  },
  {
   "cell_type": "code",
   "execution_count": null,
   "id": "2d5111ef-2ca5-4c99-98e2-15e0e2a97640",
   "metadata": {},
   "outputs": [],
   "source": [
    "sales_data.head()"
   ]
  },
  {
   "cell_type": "code",
   "execution_count": null,
   "id": "7a0a694c-9680-4cc9-a504-f2795c57bb36",
   "metadata": {},
   "outputs": [],
   "source": [
    "sales_data.tail()"
   ]
  },
  {
   "cell_type": "code",
   "execution_count": null,
   "id": "4f0caa6f-52da-49e9-854f-e37149415144",
   "metadata": {},
   "outputs": [],
   "source": [
    "average = sales_data['Value'].mean()\n",
    "print(\"Average monthly sales: \", average)"
   ]
  },
  {
   "cell_type": "code",
   "execution_count": null,
   "id": "f8bedfb9-aade-4fb8-8c4b-30698ee8839f",
   "metadata": {},
   "outputs": [],
   "source": [
    "#Question to answer. How many months were above and below average?\n",
    "\n",
    "sales_data['Above Average'] = sales_data['Value'] > average"
   ]
  },
  {
   "cell_type": "code",
   "execution_count": null,
   "id": "09c64624-89c7-4b59-9fce-297475a1fc55",
   "metadata": {},
   "outputs": [],
   "source": [
    "sales_data.head()"
   ]
  },
  {
   "cell_type": "code",
   "execution_count": null,
   "id": "a6cb413f-49e3-4bf4-8f3c-94671a5c7bf7",
   "metadata": {},
   "outputs": [],
   "source": [
    "sales_data.tail()"
   ]
  },
  {
   "cell_type": "code",
   "execution_count": null,
   "id": "0c83f5a4-e8a6-40a8-98ec-28fc2c7d6a4f",
   "metadata": {},
   "outputs": [],
   "source": [
    "sales_data['Above Average'].value_counts()"
   ]
  },
  {
   "cell_type": "code",
   "execution_count": null,
   "id": "ed5de7e3-3c45-4ce1-85a9-af1d9d023388",
   "metadata": {},
   "outputs": [],
   "source": [
    "#Next analysis is year over year.\n",
    "#After running first, an error popped up. Turns out I mispelled change in the formula.\n",
    "\n",
    "sales_data['Year over Year'] = sales_data['Value'].pct_change(periods=12) * 100"
   ]
  },
  {
   "cell_type": "code",
   "execution_count": null,
   "id": "9116cb1f-f872-431b-b289-e92eed40f71d",
   "metadata": {},
   "outputs": [],
   "source": [
    "sales_data.head()"
   ]
  },
  {
   "cell_type": "code",
   "execution_count": null,
   "id": "8b217978-493c-456d-9ce5-d7931fe0b237",
   "metadata": {},
   "outputs": [],
   "source": [
    "sales_data.tail()"
   ]
  },
  {
   "cell_type": "code",
   "execution_count": null,
   "id": "f1a57260-1ecc-401c-b1e2-e06931ffafbe",
   "metadata": {},
   "outputs": [],
   "source": [
    "#Rounding the numbers to make them easier to read.\n",
    "\n",
    "sales_data = sales_data.round(2)"
   ]
  },
  {
   "cell_type": "code",
   "execution_count": null,
   "id": "b74287ae-5914-4e12-bfc5-aeee5b874036",
   "metadata": {},
   "outputs": [],
   "source": [
    "sales_data.tail()"
   ]
  },
  {
   "cell_type": "code",
   "execution_count": null,
   "id": "5c8c9c25-ac97-442c-ac80-6c85e9011396",
   "metadata": {},
   "outputs": [],
   "source": [
    "os.makedirs(\"../output\", exist_ok=True)"
   ]
  },
  {
   "cell_type": "code",
   "execution_count": null,
   "id": "ef953f7e-ffca-4ffc-b788-d0b8fb035e67",
   "metadata": {},
   "outputs": [],
   "source": [
    "sales_data.to_csv(\"../output/retail_sales_analysis.csv\", index=False)"
   ]
  },
  {
   "cell_type": "code",
   "execution_count": null,
   "id": "1cba9f00-ccbe-41dc-913c-2ff8840b3bf3",
   "metadata": {},
   "outputs": [],
   "source": []
  },
  {
   "cell_type": "code",
   "execution_count": null,
   "id": "195d8e19-fea2-4f1b-ba3b-88ddbe8e94eb",
   "metadata": {},
   "outputs": [],
   "source": []
  },
  {
   "cell_type": "code",
   "execution_count": null,
   "id": "48c27eb3-edcb-4b22-9f70-8a35854034bb",
   "metadata": {},
   "outputs": [],
   "source": []
  },
  {
   "cell_type": "code",
   "execution_count": null,
   "id": "ea181cde-c02b-4797-add1-06452ab0127a",
   "metadata": {},
   "outputs": [],
   "source": []
  }
 ],
 "metadata": {
  "kernelspec": {
   "display_name": "Python 3 (ipykernel)",
   "language": "python",
   "name": "python3"
  },
  "language_info": {
   "codemirror_mode": {
    "name": "ipython",
    "version": 3
   },
   "file_extension": ".py",
   "mimetype": "text/x-python",
   "name": "python",
   "nbconvert_exporter": "python",
   "pygments_lexer": "ipython3",
   "version": "3.8.18"
  }
 },
 "nbformat": 4,
 "nbformat_minor": 5
}
